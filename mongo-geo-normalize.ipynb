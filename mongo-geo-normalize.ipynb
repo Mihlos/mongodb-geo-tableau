{
 "cells": [
  {
   "cell_type": "code",
   "execution_count": 1,
   "metadata": {},
   "outputs": [],
   "source": [
    "import pandas as pd\n",
    "from pymongo import MongoClient, GEO2D\n",
    "from pandas.io.json import json_normalize"
   ]
  },
  {
   "cell_type": "code",
   "execution_count": 2,
   "metadata": {},
   "outputs": [],
   "source": [
    "client = MongoClient ('localhost', 27017)\n",
    "db = client.companies\n",
    "collection = db.companies"
   ]
  },
  {
   "cell_type": "code",
   "execution_count": 3,
   "metadata": {},
   "outputs": [],
   "source": [
    "# mongoimport --db companies --collection companies --file companies.json\n",
    "# FILTER {$and: [ {deadpooled_year:null}, {founded_year: {$gt:2003}}, {offices: { $ne: [] } }, {$or: [{category_code:'games_video'},{category_code:'software'}] }]}\n",
    "# PROJECT {name:1 , category_code:1, number_of_employees:1, founded_year:1, \"offices.city\":1, \"offices.country_code\":1, \"offices.latitude\":1, \"offices.longitude\":1}\n",
    "# SORT {number_of_employees:-1}"
   ]
  },
  {
   "cell_type": "code",
   "execution_count": 4,
   "metadata": {},
   "outputs": [],
   "source": [
    "def query_to_db():\n",
    "    cursor = collection.find({'$and': \n",
    "                        [ {'deadpooled_year':None}, \n",
    "                          {'founded_year': {'$gt':2003}},\n",
    "                          {'offices': { '$ne': [] } },\n",
    "                          {'$or': [{'category_code':'games_video'},\n",
    "                                   {'category_code':'software'}] \n",
    "                        }]}\n",
    "                        , {'name':1 , 'category_code':1, 'number_of_employees':1, 'founded_year':1, \n",
    "                           \"offices.city\":1, \"offices.country_code\":1, \"offices.latitude\":1, \"offices.longitude\":1}\n",
    "                        ).sort('number_of_employees', -1)\n",
    "    return cursor"
   ]
  },
  {
   "cell_type": "code",
   "execution_count": 5,
   "metadata": {},
   "outputs": [],
   "source": [
    "def clean_nans(data):\n",
    "    data= data.dropna(subset=['latitude', 'longitude', 'number_of_employees'])\n",
    "    return data"
   ]
  },
  {
   "cell_type": "code",
   "execution_count": 6,
   "metadata": {},
   "outputs": [],
   "source": [
    "def calculate_type(reg):\n",
    "    if reg['founded_year'] > 2007 and reg['number_of_employees'] < 50:\n",
    "        return 'Startup'\n",
    "    else: return 'BigCompany'\n",
    "    \n",
    "def get_class(data):\n",
    "    data['type']= data.apply(calculate_type, axis=1)\n",
    "    return data"
   ]
  },
  {
   "cell_type": "code",
   "execution_count": 7,
   "metadata": {},
   "outputs": [],
   "source": [
    "def order_data(data):\n",
    "    data = data[['name', 'category_code', 'founded_year', \n",
    "                  'country_code', 'city', 'latitude', 'longitude', \n",
    "                  'number_of_employees']]\n",
    "    data= data.reset_index(drop=True)\n",
    "    return data"
   ]
  },
  {
   "cell_type": "code",
   "execution_count": 22,
   "metadata": {},
   "outputs": [],
   "source": [
    "def get_2d_geo(data):\n",
    "    data['2Dgeo']= data.apply(lambda reg: [reg['longitude'], reg['latitude']], axis=1)\n",
    "    return data"
   ]
  },
  {
   "cell_type": "code",
   "execution_count": 25,
   "metadata": {},
   "outputs": [],
   "source": [
    "#Main\n",
    "\n",
    "datos_crudo= query_to_db()\n",
    "df = json_normalize(data= datos_crudo, record_path='offices', \n",
    "                    meta=['name', 'category_code', 'number_of_employees', 'founded_year'])\n",
    "df_clean= clean_nans(df)\n",
    "df_ordered= order_data(df_clean)\n",
    "df_final= get_class(df_ordered)\n",
    "df_geo = get_2d_geo(df_final)\n",
    "df_geo.to_json('data_normalize_to_plot.json', orient='records', lines= True)"
   ]
  },
  {
   "cell_type": "code",
   "execution_count": 26,
   "metadata": {},
   "outputs": [
    {
     "data": {
      "text/html": [
       "<div>\n",
       "<style scoped>\n",
       "    .dataframe tbody tr th:only-of-type {\n",
       "        vertical-align: middle;\n",
       "    }\n",
       "\n",
       "    .dataframe tbody tr th {\n",
       "        vertical-align: top;\n",
       "    }\n",
       "\n",
       "    .dataframe thead th {\n",
       "        text-align: right;\n",
       "    }\n",
       "</style>\n",
       "<table border=\"1\" class=\"dataframe\">\n",
       "  <thead>\n",
       "    <tr style=\"text-align: right;\">\n",
       "      <th></th>\n",
       "      <th>name</th>\n",
       "      <th>category_code</th>\n",
       "      <th>founded_year</th>\n",
       "      <th>country_code</th>\n",
       "      <th>city</th>\n",
       "      <th>latitude</th>\n",
       "      <th>longitude</th>\n",
       "      <th>number_of_employees</th>\n",
       "      <th>type</th>\n",
       "      <th>2Dgeo</th>\n",
       "    </tr>\n",
       "  </thead>\n",
       "  <tbody>\n",
       "    <tr>\n",
       "      <th>0</th>\n",
       "      <td>UCWeb</td>\n",
       "      <td>software</td>\n",
       "      <td>2004</td>\n",
       "      <td>CHN</td>\n",
       "      <td>Guangzhou</td>\n",
       "      <td>23.133754</td>\n",
       "      <td>113.385331</td>\n",
       "      <td>1700</td>\n",
       "      <td>BigCompany</td>\n",
       "      <td>[113.3853308, 23.1337544]</td>\n",
       "    </tr>\n",
       "    <tr>\n",
       "      <th>1</th>\n",
       "      <td>UCWeb</td>\n",
       "      <td>software</td>\n",
       "      <td>2004</td>\n",
       "      <td>USA</td>\n",
       "      <td>San Francisco</td>\n",
       "      <td>37.781476</td>\n",
       "      <td>-122.401322</td>\n",
       "      <td>1700</td>\n",
       "      <td>BigCompany</td>\n",
       "      <td>[-122.4013217, 37.7814765]</td>\n",
       "    </tr>\n",
       "    <tr>\n",
       "      <th>2</th>\n",
       "      <td>Veeam Software</td>\n",
       "      <td>software</td>\n",
       "      <td>2006</td>\n",
       "      <td>USA</td>\n",
       "      <td>Columbus</td>\n",
       "      <td>40.088052</td>\n",
       "      <td>-83.088566</td>\n",
       "      <td>1500</td>\n",
       "      <td>BigCompany</td>\n",
       "      <td>[-83.088566, 40.088052]</td>\n",
       "    </tr>\n",
       "    <tr>\n",
       "      <th>3</th>\n",
       "      <td>HubSpot</td>\n",
       "      <td>software</td>\n",
       "      <td>2006</td>\n",
       "      <td>USA</td>\n",
       "      <td>Cambridge</td>\n",
       "      <td>42.375392</td>\n",
       "      <td>-71.118487</td>\n",
       "      <td>650</td>\n",
       "      <td>BigCompany</td>\n",
       "      <td>[-71.118487, 42.375392]</td>\n",
       "    </tr>\n",
       "    <tr>\n",
       "      <th>4</th>\n",
       "      <td>Kabam</td>\n",
       "      <td>games_video</td>\n",
       "      <td>2006</td>\n",
       "      <td>USA</td>\n",
       "      <td>San Francisco</td>\n",
       "      <td>37.394456</td>\n",
       "      <td>-122.078531</td>\n",
       "      <td>650</td>\n",
       "      <td>BigCompany</td>\n",
       "      <td>[-122.0785314, 37.3944561]</td>\n",
       "    </tr>\n",
       "  </tbody>\n",
       "</table>\n",
       "</div>"
      ],
      "text/plain": [
       "             name category_code  founded_year country_code           city  \\\n",
       "0           UCWeb      software          2004          CHN      Guangzhou   \n",
       "1           UCWeb      software          2004          USA  San Francisco   \n",
       "2  Veeam Software      software          2006          USA       Columbus   \n",
       "3         HubSpot      software          2006          USA      Cambridge   \n",
       "4           Kabam   games_video          2006          USA  San Francisco   \n",
       "\n",
       "    latitude   longitude number_of_employees        type  \\\n",
       "0  23.133754  113.385331                1700  BigCompany   \n",
       "1  37.781476 -122.401322                1700  BigCompany   \n",
       "2  40.088052  -83.088566                1500  BigCompany   \n",
       "3  42.375392  -71.118487                 650  BigCompany   \n",
       "4  37.394456 -122.078531                 650  BigCompany   \n",
       "\n",
       "                        2Dgeo  \n",
       "0   [113.3853308, 23.1337544]  \n",
       "1  [-122.4013217, 37.7814765]  \n",
       "2     [-83.088566, 40.088052]  \n",
       "3     [-71.118487, 42.375392]  \n",
       "4  [-122.0785314, 37.3944561]  "
      ]
     },
     "execution_count": 26,
     "metadata": {},
     "output_type": "execute_result"
    }
   ],
   "source": [
    "df_geo.head()"
   ]
  },
  {
   "cell_type": "code",
   "execution_count": null,
   "metadata": {},
   "outputs": [],
   "source": []
  }
 ],
 "metadata": {
  "kernelspec": {
   "display_name": "Python 3",
   "language": "python",
   "name": "python3"
  },
  "language_info": {
   "codemirror_mode": {
    "name": "ipython",
    "version": 3
   },
   "file_extension": ".py",
   "mimetype": "text/x-python",
   "name": "python",
   "nbconvert_exporter": "python",
   "pygments_lexer": "ipython3",
   "version": "3.7.3"
  }
 },
 "nbformat": 4,
 "nbformat_minor": 2
}
