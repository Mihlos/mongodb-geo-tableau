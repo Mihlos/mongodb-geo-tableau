{
 "cells": [
  {
   "cell_type": "code",
   "execution_count": 1,
   "metadata": {},
   "outputs": [],
   "source": [
    "import pandas as pd\n",
    "import folium\n",
    "from pymongo import MongoClient"
   ]
  },
  {
   "cell_type": "code",
   "execution_count": 2,
   "metadata": {},
   "outputs": [],
   "source": [
    "client = MongoClient('mongodb://localhost:27017/')\n",
    "db = client.offices\n",
    "datos_mongo = db.offices\n",
    "\n",
    "\n",
    "puntuaciones= {\n",
    "    'games_video' : 100,\n",
    "    'software' : 50,\n",
    "    'BigCompany' : 25,\n",
    "    'Startup' : 40,\n",
    "    'USA': -80\n",
    "    }"
   ]
  },
  {
   "cell_type": "code",
   "execution_count": 3,
   "metadata": {},
   "outputs": [],
   "source": [
    "# Obtener datos de mongo con el indice 2d geo.\n",
    "def get_geo_data(datos):\n",
    "    cursor_geo= datos.find()\n",
    "    df = pd.DataFrame(cursor_geo)\n",
    "    df = df.drop('_id', axis=1)\n",
    "    return df"
   ]
  },
  {
   "cell_type": "code",
   "execution_count": 4,
   "metadata": {},
   "outputs": [],
   "source": [
    "def sum_points(reg):\n",
    "    points = 0\n",
    "    points+= puntuaciones[reg.category_code]\n",
    "    points+= puntuaciones[reg.type]\n",
    "    if reg.country_code== 'USA': points+= puntuaciones['USA']\n",
    "    return points\n",
    "\n",
    "def get_offices_near(reg):\n",
    "    points= list()\n",
    "    lat = float(reg.latitude)\n",
    "    long = float(reg.longitude)\n",
    "    df_location = pd.DataFrame(datos_mongo.find({\n",
    "                                \"2Dgeo\": {\n",
    "                                 \"$near\": {\n",
    "                                   \"$geometry\": {\n",
    "                                      \"type\": \"Point\" ,\n",
    "                                      \"coordinates\": [ long, lat ]\n",
    "                                   },\n",
    "                                   \"$maxDistance\": 3000, # In meters\n",
    "                                 }\n",
    "                               }\n",
    "                            }))\n",
    "    points.extend(df_location.apply(sum_points, axis=1))\n",
    "    return sum(points)"
   ]
  },
  {
   "cell_type": "code",
   "execution_count": 5,
   "metadata": {},
   "outputs": [],
   "source": [
    "def calculate_points(df):\n",
    "    df['points'] = df.apply(get_offices_near, axis=1)\n",
    "    return df"
   ]
  },
  {
   "cell_type": "code",
   "execution_count": 9,
   "metadata": {},
   "outputs": [],
   "source": [
    "def generate_map(row):\n",
    "    latitud= float(row.latitude)\n",
    "    longitud= float(row.longitude)\n",
    "    nombre= str(row['name'])\n",
    "    m = folium.Map(\n",
    "    location=[latitud, longitud],\n",
    "    tiles='Stamen Toner',\n",
    "    zoom_start=16)\n",
    "\n",
    "    tooltip = 'Este es tu sitio!'\n",
    "    folium.Marker([latitud, longitud], \n",
    "                  popup=nombre, \n",
    "                  tooltip=tooltip, \n",
    "                  icon=folium.Icon(color='green')\n",
    "                  ).add_to(m)\n",
    "    m.save('point_map.html')\n",
    "    return m"
   ]
  },
  {
   "cell_type": "code",
   "execution_count": 10,
   "metadata": {},
   "outputs": [],
   "source": [
    "#Main\n",
    "df_geo_mongo = get_geo_data(datos_mongo)\n",
    "df_points = calculate_points(df_geo_mongo)\n",
    "df_points= df_points.sort_values('points', ascending=False)\n",
    "mapa= generate_map(df_points[0:1])"
   ]
  },
  {
   "cell_type": "code",
   "execution_count": 11,
   "metadata": {},
   "outputs": [
    {
     "data": {
      "text/html": [
       "<div style=\"width:100%;\"><div style=\"position:relative;width:100%;height:0;padding-bottom:60%;\"><iframe src=\"data:text/html;charset=utf-8;base64,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\" style=\"position:absolute;width:100%;height:100%;left:0;top:0;border:none !important;\" allowfullscreen webkitallowfullscreen mozallowfullscreen></iframe></div></div>"
      ],
      "text/plain": [
       "<folium.folium.Map at 0x7f8739a582e8>"
      ]
     },
     "execution_count": 11,
     "metadata": {},
     "output_type": "execute_result"
    }
   ],
   "source": [
    "mapa"
   ]
  },
  {
   "cell_type": "code",
   "execution_count": null,
   "metadata": {},
   "outputs": [],
   "source": []
  }
 ],
 "metadata": {
  "kernelspec": {
   "display_name": "Python 3",
   "language": "python",
   "name": "python3"
  },
  "language_info": {
   "codemirror_mode": {
    "name": "ipython",
    "version": 3
   },
   "file_extension": ".py",
   "mimetype": "text/x-python",
   "name": "python",
   "nbconvert_exporter": "python",
   "pygments_lexer": "ipython3",
   "version": "3.7.3"
  }
 },
 "nbformat": 4,
 "nbformat_minor": 2
}
